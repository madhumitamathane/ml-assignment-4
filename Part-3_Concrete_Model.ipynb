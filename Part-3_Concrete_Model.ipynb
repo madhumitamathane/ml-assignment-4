{
 "cells": [
  {
   "cell_type": "code",
   "execution_count": null,
   "metadata": {
    "collapsed": true
   },
   "outputs": [],
   "source": [
    "import pandas as pd\n",
    "import numpy as np\n",
    "import textwrap\n",
    "from sklearn.model_selection import KFold, train_test_split\n",
    "from sklearn.linear_model import Ridge, LinearRegression, Lasso\n",
    "from sklearn.metrics import mean_squared_error, r2_score, accuracy_score\n",
    "from sklearn.base import clone"
   ]
  },
  {
   "cell_type": "code",
   "execution_count": null,
   "metadata": {
    "collapsed": true
   },
   "outputs": [],
   "source": [
    "# This is where we'll put constants\n",
    "FOLD_COUNT          = 4\n",
    "TRAIN_DATA_PATH     = \"./data/Concrete_Data.xls\""
   ]
  },
  {
   "cell_type": "code",
   "execution_count": null,
   "metadata": {
    "collapsed": true
   },
   "outputs": [],
   "source": [
    "def get_data_xy(data):\n",
    "    X = data.iloc[:, 0:7]\n",
    "    y = data.iloc[:,8]\n",
    "    return X, y\n",
    "\n",
    "def clean_data(data):\n",
    "    data = data.dropna()\n",
    "    return data\n",
    "\n",
    "def read_data(path):\n",
    "    dataset = pd.read_excel(path, header = 0)\n",
    "    return dataset"
   ]
  },
  {
   "cell_type": "code",
   "execution_count": null,
   "metadata": {},
   "outputs": [],
   "source": [
    "dataset = read_data(TRAIN_DATA_PATH)\n",
    "dataset.head()"
   ]
  },
  {
   "cell_type": "code",
   "execution_count": null,
   "metadata": {},
   "outputs": [],
   "source": [
    "print (dataset.columns)"
   ]
  },
  {
   "cell_type": "code",
   "execution_count": null,
   "metadata": {
    "collapsed": true
   },
   "outputs": [],
   "source": [
    "def test_model_split(model, X, y):\n",
    "    \"\"\"Run a test on the given split. It works off of a clone of the given model.\"\"\"\n",
    "    train_X, test_X, train_y, test_y = train_test_split(X, y, test_size=0.25)\n",
    "    model = clone(model)\n",
    "    model.fit(train_X, train_y)\n",
    "    return test_model(model, test_X, test_y)\n",
    "    \n",
    "def test_model (model, test_X, test_y):\n",
    "    \"\"\"Get performance metrics based on the model's prediction results.\"\"\"\n",
    "    prediction = model.predict(test_X)\n",
    "    \n",
    "    mse = mean_squared_error(test_y, prediction)\n",
    "    var_score = r2_score(test_y, prediction)\n",
    "    y_bar_squared = (sum(test_y)/float(len(test_y)))**2\n",
    "    mse_per = mse / y_bar_squared\n",
    "    \n",
    "    return (mse, mse_per, var_score)\n",
    "\n",
    "def print_test_results (results):\n",
    "    mse, mse_per, var_score = results\n",
    "    print(\"MSE:\")\n",
    "    print(textwrap.indent(str(mse), \" \" * 4))\n",
    "    \n",
    "    print(\"\")\n",
    "    print(\"MSE%:\")\n",
    "    print(textwrap.indent(str(mse_per), \" \" * 4))\n",
    "    \n",
    "    print(\"\")\n",
    "    print(\"Variance Score:\")\n",
    "    print(textwrap.indent(str(var_score), \" \" * 4))\n",
    "\n",
    "def prepare_models(models, X, y):\n",
    "    \"\"\"Prepare the given models and print training results\"\"\"\n",
    "    for model_name, model in models:\n",
    "        print(\"'{0}' classifier\".format(model_name))\n",
    "        print(\"--------------------------------------\")\n",
    "\n",
    "        print(\"Testing against training data with 75%-25% split...\")\n",
    "        print(\"\")\n",
    "\n",
    "        test_results = test_model_split(model, X, y)\n",
    "        print_test_results(test_results)\n",
    "        print(\"\")\n",
    "    return models"
   ]
  },
  {
   "cell_type": "code",
   "execution_count": null,
   "metadata": {
    "collapsed": true
   },
   "outputs": [],
   "source": [
    "X, y = get_data_xy(dataset)"
   ]
  },
  {
   "cell_type": "code",
   "execution_count": null,
   "metadata": {},
   "outputs": [],
   "source": [
    "# Create linear regression object\n",
    "models = prepare_models(\n",
    "    [\n",
    "        (\"Linear Regression (Ridge)\", Ridge(alpha = 0.5)),\n",
    "    ],\n",
    "    X,\n",
    "    y\n",
    ")"
   ]
  },
  {
   "cell_type": "code",
   "execution_count": null,
   "metadata": {
    "collapsed": true
   },
   "outputs": [],
   "source": []
  }
 ],
 "metadata": {
  "kernelspec": {
   "display_name": "Python 3",
   "language": "python",
   "name": "python3"
  },
  "language_info": {
   "codemirror_mode": {
    "name": "ipython",
    "version": 3
   },
   "file_extension": ".py",
   "mimetype": "text/x-python",
   "name": "python",
   "nbconvert_exporter": "python",
   "pygments_lexer": "ipython3",
   "version": "3.6.3"
  }
 },
 "nbformat": 4,
 "nbformat_minor": 2
}
